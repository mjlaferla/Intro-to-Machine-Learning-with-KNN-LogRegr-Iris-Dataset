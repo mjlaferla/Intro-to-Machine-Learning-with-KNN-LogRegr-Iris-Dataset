{
 "cells": [
  {
   "cell_type": "code",
   "execution_count": 46,
   "metadata": {},
   "outputs": [],
   "source": [
    "import pandas as pd\n",
    "import matplotlib.pyplot as plt\n",
    "import seaborn as sns\n",
    "from sklearn import preprocessing\n",
    "from sklearn.neighbors import KNeighborsClassifier\n",
    "from sklearn import metrics\n",
    "from sklearn.linear_model import LogisticRegression\n",
    "from sklearn.model_selection import train_test_split"
   ]
  },
  {
   "cell_type": "code",
   "execution_count": 2,
   "metadata": {},
   "outputs": [],
   "source": [
    "#import iris dataset\n",
    "df = pd.read_csv('Downloads/Datasets/Iris.csv')"
   ]
  },
  {
   "cell_type": "code",
   "execution_count": 3,
   "metadata": {},
   "outputs": [
    {
     "name": "stdout",
     "output_type": "stream",
     "text": [
      "   Id  SepalLengthCm  SepalWidthCm  PetalLengthCm  PetalWidthCm      Species\n",
      "0   1            5.1           3.5            1.4           0.2  Iris-setosa\n",
      "1   2            4.9           3.0            1.4           0.2  Iris-setosa\n",
      "2   3            4.7           3.2            1.3           0.2  Iris-setosa\n",
      "3   4            4.6           3.1            1.5           0.2  Iris-setosa\n",
      "4   5            5.0           3.6            1.4           0.2  Iris-setosa\n",
      "      Id  SepalLengthCm  SepalWidthCm  PetalLengthCm  PetalWidthCm  \\\n",
      "145  146            6.7           3.0            5.2           2.3   \n",
      "146  147            6.3           2.5            5.0           1.9   \n",
      "147  148            6.5           3.0            5.2           2.0   \n",
      "148  149            6.2           3.4            5.4           2.3   \n",
      "149  150            5.9           3.0            5.1           1.8   \n",
      "\n",
      "            Species  \n",
      "145  Iris-virginica  \n",
      "146  Iris-virginica  \n",
      "147  Iris-virginica  \n",
      "148  Iris-virginica  \n",
      "149  Iris-virginica  \n"
     ]
    }
   ],
   "source": [
    "#review the data\n",
    "print(df.head(5))\n",
    "print(df.tail(5))"
   ]
  },
  {
   "cell_type": "code",
   "execution_count": 4,
   "metadata": {},
   "outputs": [
    {
     "name": "stdout",
     "output_type": "stream",
     "text": [
      "Index(['id', 'sepal_length_cm', 'sepal_width_cm', 'petal_length_cm',\n",
      "       'pedal_width_cm', 'species'],\n",
      "      dtype='object')\n",
      "\n",
      "id                   int64\n",
      "sepal_length_cm    float64\n",
      "sepal_width_cm     float64\n",
      "petal_length_cm    float64\n",
      "pedal_width_cm     float64\n",
      "species             object\n",
      "dtype: object\n",
      "\n",
      "id 0\n",
      "sepal_length_cm 0\n",
      "sepal_width_cm 0\n",
      "petal_length_cm 0\n",
      "pedal_width_cm 0\n",
      "species 0\n"
     ]
    }
   ],
   "source": [
    "#lets get some info on our data\n",
    "#rename cols to add some spacing\n",
    "cols = ['id', 'sepal_length_cm', 'sepal_width_cm', 'petal_length_cm', 'pedal_width_cm', 'species']\n",
    "df.columns = cols\n",
    "\n",
    "#column names\n",
    "print(df.columns)\n",
    "print('')\n",
    "\n",
    "#column data types\n",
    "print(df.dtypes)\n",
    "print('')\n",
    "\n",
    "#look for nulls in each column\n",
    "for col in df.columns:\n",
    "    print(col, df[col].isnull().sum())"
   ]
  },
  {
   "cell_type": "code",
   "execution_count": 5,
   "metadata": {},
   "outputs": [
    {
     "name": "stdout",
     "output_type": "stream",
     "text": [
      "Species\n",
      "['Iris-setosa' 'Iris-versicolor' 'Iris-virginica']\n",
      "Quick Stats\n",
      "               id  sepal_length_cm  sepal_width_cm  petal_length_cm  \\\n",
      "count  150.000000       150.000000      150.000000       150.000000   \n",
      "mean    75.500000         5.843333        3.054000         3.758667   \n",
      "std     43.445368         0.828066        0.433594         1.764420   \n",
      "min      1.000000         4.300000        2.000000         1.000000   \n",
      "25%     38.250000         5.100000        2.800000         1.600000   \n",
      "50%     75.500000         5.800000        3.000000         4.350000   \n",
      "75%    112.750000         6.400000        3.300000         5.100000   \n",
      "max    150.000000         7.900000        4.400000         6.900000   \n",
      "\n",
      "       pedal_width_cm  \n",
      "count      150.000000  \n",
      "mean         1.198667  \n",
      "std          0.763161  \n",
      "min          0.100000  \n",
      "25%          0.300000  \n",
      "50%          1.300000  \n",
      "75%          1.800000  \n",
      "max          2.500000  \n"
     ]
    }
   ],
   "source": [
    "#our target is species so check the types of available species\n",
    "print('Species')\n",
    "print(df['species'].unique())\n",
    "\n",
    "#describe date\n",
    "print('Quick Stats')\n",
    "print(df.describe())"
   ]
  },
  {
   "cell_type": "code",
   "execution_count": 6,
   "metadata": {},
   "outputs": [
    {
     "data": {
      "image/png": "[encoded data removed]",
      "text/plain": [
       "<Figure size 535.5x432 with 1 Axes>"
      ]
     },
     "metadata": {
      "needs_background": "light"
     },
     "output_type": "display_data"
    }
   ],
   "source": [
    "#plot the septal data by species\n",
    "sns.FacetGrid(df, hue='species', height=6) \\\n",
    "   .map(plt.scatter, 'sepal_length_cm', 'sepal_width_cm') \\\n",
    "   .add_legend()\n",
    "\n",
    "plt.show()"
   ]
  },
  {
   "cell_type": "code",
   "execution_count": 7,
   "metadata": {},
   "outputs": [
    {
     "name": "stdout",
     "output_type": "stream",
     "text": [
      "features\n",
      "['sepal_length_cm', 'sepal_width_cm', 'petal_length_cm', 'pedal_width_cm']\n",
      "\n",
      "target\n",
      "species\n",
      "\n",
      "shape\n",
      "(150, 4)\n",
      "(150,)\n"
     ]
    }
   ],
   "source": [
    "#lets seperate features for some machine learning\n",
    "features = list(df.columns[1:5])\n",
    "target = df.columns[5]\n",
    "\n",
    "#store feature matrix in X\n",
    "x = df.iloc[:,1:5]\n",
    "\n",
    "#store response matrix in Y\n",
    "y = df.iloc[:,5]\n",
    "\n",
    "print('features')\n",
    "print(features)\n",
    "print('')\n",
    "\n",
    "print('target')\n",
    "print(target)\n",
    "print('')\n",
    "\n",
    "print('shape')\n",
    "print(x.shape)\n",
    "print(y.shape)"
   ]
  },
  {
   "cell_type": "code",
   "execution_count": 8,
   "metadata": {},
   "outputs": [
    {
     "name": "stdout",
     "output_type": "stream",
     "text": [
      "classes: ['Iris-setosa' 'Iris-versicolor' 'Iris-virginica']\n",
      "Response variable after encoding: [0 0 0 0 0 0 0 0 0 0 0 0 0 0 0 0 0 0 0 0 0 0 0 0 0 0 0 0 0 0 0 0 0 0 0 0 0\n",
      " 0 0 0 0 0 0 0 0 0 0 0 0 0 1 1 1 1 1 1 1 1 1 1 1 1 1 1 1 1 1 1 1 1 1 1 1 1\n",
      " 1 1 1 1 1 1 1 1 1 1 1 1 1 1 1 1 1 1 1 1 1 1 1 1 1 1 2 2 2 2 2 2 2 2 2 2 2\n",
      " 2 2 2 2 2 2 2 2 2 2 2 2 2 2 2 2 2 2 2 2 2 2 2 2 2 2 2 2 2 2 2 2 2 2 2 2 2\n",
      " 2 2]\n"
     ]
    },
    {
     "data": {
      "text/html": [
       "<div>\n",
       "<style scoped>\n",
       "    .dataframe tbody tr th:only-of-type {\n",
       "        vertical-align: middle;\n",
       "    }\n",
       "\n",
       "    .dataframe tbody tr th {\n",
       "        vertical-align: top;\n",
       "    }\n",
       "\n",
       "    .dataframe thead th {\n",
       "        text-align: right;\n",
       "    }\n",
       "</style>\n",
       "<table border=\"1\" class=\"dataframe\">\n",
       "  <thead>\n",
       "    <tr style=\"text-align: right;\">\n",
       "      <th></th>\n",
       "      <th>id</th>\n",
       "      <th>sepal_length_cm</th>\n",
       "      <th>sepal_width_cm</th>\n",
       "      <th>petal_length_cm</th>\n",
       "      <th>pedal_width_cm</th>\n",
       "      <th>species</th>\n",
       "      <th>encoded_species</th>\n",
       "    </tr>\n",
       "  </thead>\n",
       "  <tbody>\n",
       "    <tr>\n",
       "      <th>140</th>\n",
       "      <td>141</td>\n",
       "      <td>6.7</td>\n",
       "      <td>3.1</td>\n",
       "      <td>5.6</td>\n",
       "      <td>2.4</td>\n",
       "      <td>Iris-virginica</td>\n",
       "      <td>2</td>\n",
       "    </tr>\n",
       "    <tr>\n",
       "      <th>141</th>\n",
       "      <td>142</td>\n",
       "      <td>6.9</td>\n",
       "      <td>3.1</td>\n",
       "      <td>5.1</td>\n",
       "      <td>2.3</td>\n",
       "      <td>Iris-virginica</td>\n",
       "      <td>2</td>\n",
       "    </tr>\n",
       "    <tr>\n",
       "      <th>142</th>\n",
       "      <td>143</td>\n",
       "      <td>5.8</td>\n",
       "      <td>2.7</td>\n",
       "      <td>5.1</td>\n",
       "      <td>1.9</td>\n",
       "      <td>Iris-virginica</td>\n",
       "      <td>2</td>\n",
       "    </tr>\n",
       "    <tr>\n",
       "      <th>143</th>\n",
       "      <td>144</td>\n",
       "      <td>6.8</td>\n",
       "      <td>3.2</td>\n",
       "      <td>5.9</td>\n",
       "      <td>2.3</td>\n",
       "      <td>Iris-virginica</td>\n",
       "      <td>2</td>\n",
       "    </tr>\n",
       "    <tr>\n",
       "      <th>144</th>\n",
       "      <td>145</td>\n",
       "      <td>6.7</td>\n",
       "      <td>3.3</td>\n",
       "      <td>5.7</td>\n",
       "      <td>2.5</td>\n",
       "      <td>Iris-virginica</td>\n",
       "      <td>2</td>\n",
       "    </tr>\n",
       "    <tr>\n",
       "      <th>145</th>\n",
       "      <td>146</td>\n",
       "      <td>6.7</td>\n",
       "      <td>3.0</td>\n",
       "      <td>5.2</td>\n",
       "      <td>2.3</td>\n",
       "      <td>Iris-virginica</td>\n",
       "      <td>2</td>\n",
       "    </tr>\n",
       "    <tr>\n",
       "      <th>146</th>\n",
       "      <td>147</td>\n",
       "      <td>6.3</td>\n",
       "      <td>2.5</td>\n",
       "      <td>5.0</td>\n",
       "      <td>1.9</td>\n",
       "      <td>Iris-virginica</td>\n",
       "      <td>2</td>\n",
       "    </tr>\n",
       "    <tr>\n",
       "      <th>147</th>\n",
       "      <td>148</td>\n",
       "      <td>6.5</td>\n",
       "      <td>3.0</td>\n",
       "      <td>5.2</td>\n",
       "      <td>2.0</td>\n",
       "      <td>Iris-virginica</td>\n",
       "      <td>2</td>\n",
       "    </tr>\n",
       "    <tr>\n",
       "      <th>148</th>\n",
       "      <td>149</td>\n",
       "      <td>6.2</td>\n",
       "      <td>3.4</td>\n",
       "      <td>5.4</td>\n",
       "      <td>2.3</td>\n",
       "      <td>Iris-virginica</td>\n",
       "      <td>2</td>\n",
       "    </tr>\n",
       "    <tr>\n",
       "      <th>149</th>\n",
       "      <td>150</td>\n",
       "      <td>5.9</td>\n",
       "      <td>3.0</td>\n",
       "      <td>5.1</td>\n",
       "      <td>1.8</td>\n",
       "      <td>Iris-virginica</td>\n",
       "      <td>2</td>\n",
       "    </tr>\n",
       "  </tbody>\n",
       "</table>\n",
       "</div>"
      ],
      "text/plain": [
       "      id  sepal_length_cm  sepal_width_cm  petal_length_cm  pedal_width_cm  \\\n",
       "140  141              6.7             3.1              5.6             2.4   \n",
       "141  142              6.9             3.1              5.1             2.3   \n",
       "142  143              5.8             2.7              5.1             1.9   \n",
       "143  144              6.8             3.2              5.9             2.3   \n",
       "144  145              6.7             3.3              5.7             2.5   \n",
       "145  146              6.7             3.0              5.2             2.3   \n",
       "146  147              6.3             2.5              5.0             1.9   \n",
       "147  148              6.5             3.0              5.2             2.0   \n",
       "148  149              6.2             3.4              5.4             2.3   \n",
       "149  150              5.9             3.0              5.1             1.8   \n",
       "\n",
       "            species  encoded_species  \n",
       "140  Iris-virginica                2  \n",
       "141  Iris-virginica                2  \n",
       "142  Iris-virginica                2  \n",
       "143  Iris-virginica                2  \n",
       "144  Iris-virginica                2  \n",
       "145  Iris-virginica                2  \n",
       "146  Iris-virginica                2  \n",
       "147  Iris-virginica                2  \n",
       "148  Iris-virginica                2  \n",
       "149  Iris-virginica                2  "
      ]
     },
     "execution_count": 8,
     "metadata": {},
     "output_type": "execute_result"
    }
   ],
   "source": [
    "#important preprocessing step in supervised machine learning. Encode response labels in to machine readable form\n",
    "le = preprocessing.LabelEncoder()\n",
    "le.fit(y)\n",
    "y = le.transform(y)\n",
    "\n",
    "#make new column to store the encoded labels\n",
    "df['encoded_species'] = y\n",
    "\n",
    "print('classes:', le.classes_)\n",
    "print('Response variable after encoding:', y)\n",
    "df.tail(10)"
   ]
  },
  {
   "cell_type": "markdown",
   "metadata": {},
   "source": [
    "### KNN Model"
   ]
  },
  {
   "cell_type": "code",
   "execution_count": 38,
   "metadata": {},
   "outputs": [
    {
     "data": {
      "text/plain": [
       "KNeighborsClassifier(algorithm='auto', leaf_size=30, metric='minkowski',\n",
       "           metric_params=None, n_jobs=None, n_neighbors=1, p=2,\n",
       "           weights='uniform')"
      ]
     },
     "execution_count": 38,
     "metadata": {},
     "output_type": "execute_result"
    }
   ],
   "source": [
    "#time to make the model using the KNN classifier\n",
    "knn_model = KNeighborsClassifier(n_neighbors=1)\n",
    "knn_model.fit(x, y)"
   ]
  },
  {
   "cell_type": "code",
   "execution_count": 18,
   "metadata": {},
   "outputs": [
    {
     "name": "stdout",
     "output_type": "stream",
     "text": [
      "value: [2]\n",
      "Predicted Species: Iris-virginica\n"
     ]
    }
   ],
   "source": [
    "#lets generate some predictions based off of this basic model\n",
    "value = knn_model.predict([[3, 5, 4, 2]])\n",
    "print('value:', value)\n",
    "print('Predicted Species:', df.loc[df['encoded_species'] == 2, 'species'].values[0])"
   ]
  },
  {
   "cell_type": "code",
   "execution_count": 19,
   "metadata": {},
   "outputs": [
    {
     "data": {
      "text/plain": [
       "array([2, 1])"
      ]
     },
     "execution_count": 19,
     "metadata": {},
     "output_type": "execute_result"
    }
   ],
   "source": [
    "#lets print a few more rows based upon new x rows\n",
    "x_new = [[3, 5, 4, 2], [5, 4, 3, 2]]\n",
    "knn_model.predict(x_new)"
   ]
  },
  {
   "cell_type": "code",
   "execution_count": 42,
   "metadata": {},
   "outputs": [
    {
     "name": "stdout",
     "output_type": "stream",
     "text": [
      "[1 1]\n"
     ]
    }
   ],
   "source": [
    "#now lets try a new value for k \n",
    "knn_model = KNeighborsClassifier(n_neighbors=5)\n",
    "knn_model.fit(x, y)\n",
    "\n",
    "print(knn_model.predict(x_new))\n",
    "\n",
    "kypred = knn_model.predict(x)"
   ]
  },
  {
   "cell_type": "code",
   "execution_count": 43,
   "metadata": {},
   "outputs": [
    {
     "data": {
      "image/png": "[encoded data removed]",
      "text/plain": [
       "<Figure size 432x288 with 1 Axes>"
      ]
     },
     "metadata": {
      "needs_background": "light"
     },
     "output_type": "display_data"
    },
    {
     "name": "stdout",
     "output_type": "stream",
     "text": [
      "1 0.98\n",
      "2 0.96\n",
      "3 0.96\n",
      "4 0.9666666666666667\n",
      "5 0.9733333333333334\n",
      "6 0.9733333333333334\n",
      "7 0.98\n",
      "8 0.98\n",
      "9 0.98\n",
      "10 0.9733333333333334\n",
      "11 0.98\n",
      "12 0.98\n",
      "13 0.98\n",
      "14 0.9866666666666667\n",
      "15 0.9866666666666667\n",
      "16 0.98\n",
      "17 0.9733333333333334\n",
      "18 0.98\n",
      "19 0.98\n",
      "20 0.98\n",
      "21 0.98\n",
      "22 0.98\n",
      "23 0.9733333333333334\n",
      "24 0.98\n",
      "25 0.9733333333333334\n",
      "26 0.9733333333333334\n",
      "27 0.9666666666666667\n",
      "28 0.9733333333333334\n",
      "29 0.9533333333333334\n",
      "30 0.96\n",
      "31 0.9533333333333334\n",
      "32 0.96\n",
      "33 0.96\n",
      "34 0.96\n",
      "35 0.9533333333333334\n",
      "36 0.96\n",
      "37 0.9466666666666667\n",
      "38 0.9533333333333334\n",
      "39 0.9533333333333334\n",
      "40 0.9533333333333334\n",
      "41 0.9533333333333334\n",
      "42 0.9466666666666667\n",
      "43 0.9533333333333334\n",
      "44 0.9466666666666667\n",
      "45 0.9466666666666667\n",
      "46 0.9533333333333334\n",
      "47 0.9466666666666667\n",
      "48 0.96\n"
     ]
    }
   ],
   "source": [
    "#so how do we find out what the best value is to use for K?\n",
    "v = []\n",
    "\n",
    "k_range = list(range(1, 50))\n",
    "\n",
    "#loop through all of the range of K values and make a model that inserts each value into the model\n",
    "for i in k_range:\n",
    "    knn_model = KNeighborsClassifier(n_neighbors=i)\n",
    "    #fit the data to the model\n",
    "    knn_model.fit(x, y)\n",
    "    k_pred = knn_model.predict(x)\n",
    "    v.append(metrics.accuracy_score(y, k_pred))\n",
    "    \n",
    "#plot the outcomes of the various K values and their accuracy scores\n",
    "plt.plot(k_range, v, color='green')\n",
    "plt.show()\n",
    "\n",
    "for i in k_range:\n",
    "    try:\n",
    "        print(i, v[i])\n",
    "    except:\n",
    "        pass"
   ]
  },
  {
   "cell_type": "markdown",
   "metadata": {},
   "source": [
    "### Logistic Regression"
   ]
  },
  {
   "cell_type": "code",
   "execution_count": 37,
   "metadata": {},
   "outputs": [
    {
     "name": "stdout",
     "output_type": "stream",
     "text": [
      "[2]\n",
      "[0 0 0 0 0 0 0 0 0 0 0 0 0 0 0 0 0 0 0 0 0 0 0 0 0 0 0 0 0 0 0 0 0 0 0 0 0\n",
      " 0 0 0 0 0 0 0 0 0 0 0 0 0 1 1 1 1 1 1 1 1 1 1 1 1 1 1 1 1 2 1 1 1 2 1 1 1\n",
      " 1 1 1 1 1 1 1 1 1 2 2 2 1 1 1 1 1 1 1 1 1 1 1 1 1 1 2 2 2 2 2 2 2 2 2 2 2\n",
      " 2 2 2 2 2 2 2 2 2 2 2 2 2 2 2 2 2 2 1 2 2 2 2 2 2 2 2 2 2 2 2 2 2 2 2 2 2\n",
      " 2 2]\n"
     ]
    }
   ],
   "source": [
    "#instigate the new LR model\n",
    "lr_model = LogisticRegression()\n",
    "\n",
    "#fit data to the model\n",
    "lr_model.fit(x, y)\n",
    "\n",
    "#run a test prediction\n",
    "test_pred = lr_model.predict([[3, 5, 4, 2]])\n",
    "print(test_pred)\n",
    "\n",
    "y_pred = lr_model.predict(x)\n",
    "print(y_pred)"
   ]
  },
  {
   "cell_type": "markdown",
   "metadata": {},
   "source": [
    "### Classification Accuracy #1"
   ]
  },
  {
   "cell_type": "code",
   "execution_count": 45,
   "metadata": {},
   "outputs": [
    {
     "name": "stdout",
     "output_type": "stream",
     "text": [
      "knn model accuracy\n",
      "0.9666666666666667\n",
      "\n",
      "logistic regression model accuracy\n",
      "0.96\n"
     ]
    }
   ],
   "source": [
    "print('knn model accuracy')\n",
    "print(metrics.accuracy_score(y, kypred))\n",
    "print('')\n",
    "\n",
    "print('logistic regression model accuracy')\n",
    "print(metrics.accuracy_score(y, y_pred))"
   ]
  },
  {
   "cell_type": "markdown",
   "metadata": {},
   "source": [
    "### Evaluation Procedure #2 Train/Test Split"
   ]
  },
  {
   "cell_type": "code",
   "execution_count": 48,
   "metadata": {},
   "outputs": [
    {
     "name": "stdout",
     "output_type": "stream",
     "text": [
      "(90, 4)\n",
      "(90,)\n"
     ]
    }
   ],
   "source": [
    "#split data into train and test data\n",
    "x_train, x_test, y_train, y_test = train_test_split(x, y, test_size=0.4, random_state=4)\n",
    "\n",
    "print(x_train.shape)\n",
    "print(y_train.shape)"
   ]
  },
  {
   "cell_type": "markdown",
   "metadata": {},
   "source": [
    "### Logistic Regression Train/Test Retrain"
   ]
  },
  {
   "cell_type": "code",
   "execution_count": 51,
   "metadata": {},
   "outputs": [
    {
     "name": "stdout",
     "output_type": "stream",
     "text": [
      "0.95\n"
     ]
    }
   ],
   "source": [
    "#create new Logistic Regression Model with training/test data\n",
    "lr_model2 = LogisticRegression()\n",
    "lr_model2.fit(x_train, y_train)\n",
    "\n",
    "#predict from test\n",
    "lr2_pred = lr_model2.predict(x_test)\n",
    "\n",
    "#check the accuracy of the new model using the validation set\n",
    "print(metrics.accuracy_score(lr2_pred, y_test))"
   ]
  },
  {
   "cell_type": "markdown",
   "metadata": {},
   "source": [
    "### KNN Train/Test Retrain"
   ]
  },
  {
   "cell_type": "code",
   "execution_count": 57,
   "metadata": {},
   "outputs": [
    {
     "data": {
      "image/png": "[encoded data removed]",
      "text/plain": [
       "<Figure size 432x288 with 1 Axes>"
      ]
     },
     "metadata": {
      "needs_background": "light"
     },
     "output_type": "display_data"
    }
   ],
   "source": [
    "#find the optimal K by looping through models using training data\n",
    "val = []\n",
    "\n",
    "k_ranges = list(range(1, 50))\n",
    "\n",
    "for i in k_ranges:\n",
    "    knn_model2 = KNeighborsClassifier(n_neighbors=i)\n",
    "    #train model with the training set\n",
    "    knn_model2.fit(x_train, y_train)\n",
    "    knn_model2_pred = knn_model2.predict(x_test)\n",
    "    val.append(metrics.accuracy_score(y_test, knn_model2_pred))\n",
    "    \n",
    "plt.plot(k_ranges, val, color='orange')\n",
    "plt.show()"
   ]
  },
  {
   "cell_type": "code",
   "execution_count": 63,
   "metadata": {},
   "outputs": [
    {
     "name": "stdout",
     "output_type": "stream",
     "text": [
      "0.9833333333333333\n"
     ]
    }
   ],
   "source": [
    "#looks like somewhere around 12 is the optimal K so know we are going to make the v2 model using 12 as K\n",
    "knn2 = KNeighborsClassifier(n_neighbors=12)\n",
    "knn2.fit(x_train, y_train)\n",
    "\n",
    "#test model accuracy using validation set\n",
    "knn2_pred = knn2.predict(x_test)\n",
    "\n",
    "print(metrics.accuracy_score(y_test, knn2_pred))"
   ]
  }
 ],
 "metadata": {
  "kernelspec": {
   "display_name": "Python 3",
   "language": "python",
   "name": "python3"
  },
  "language_info": {
   "codemirror_mode": {
    "name": "ipython",
    "version": 3
   },
   "file_extension": ".py",
   "mimetype": "text/x-python",
   "name": "python",
   "nbconvert_exporter": "python",
   "pygments_lexer": "ipython3",
   "version": "3.7.3"
  }
 },
 "nbformat": 4,
 "nbformat_minor": 2
}
